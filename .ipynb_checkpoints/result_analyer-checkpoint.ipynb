{
 "cells": [
  {
   "cell_type": "code",
   "execution_count": null,
   "metadata": {
    "scrolled": false
   },
   "outputs": [],
   "source": [
    "import csv\n",
    "with open('temp2.csv', 'w') as out_file:\n",
    "    file = input(\"enter the complete file location!\")\n",
    "    try:\n",
    "        f = open(file)\n",
    "    except FileNotFoundError:\n",
    "        f = None\n",
    "    if f is not None:\n",
    "        for line in f:\n",
    "            writer = csv.writer(out_file)\n",
    "            if line =='\\n'or line == ' ' or 'DATE:' in line or 'C.B.S.E' in line or 'ROLL' in line or 'SCHOOL' in line or 'GR1' in line or '------'in line:\n",
    "                continue\n",
    "            else:\n",
    "                row= line.strip('\\n').split()\n",
    "                if row!=[] :\n",
    "                    for i in range(1,5):\n",
    "                        if(row[i]=='M'or row[i]=='F'):\n",
    "                            row.insert(i,' ')\n",
    "                    writer.writerow(row)\n",
    "        f.close()\n",
    "    else:\n",
    "        print(\"Couldn't read the file! Try with appropriate file location\")\n",
    "        \n",
    "out_file.close()\n",
    "file =open('temp2.csv','r')\n",
    "for line in file:\n",
    "#     if(line !='\\n'):\n",
    "        print(line)"
   ]
  },
  {
   "cell_type": "code",
   "execution_count": null,
   "metadata": {},
   "outputs": [],
   "source": []
  },
  {
   "cell_type": "code",
   "execution_count": null,
   "metadata": {},
   "outputs": [],
   "source": []
  }
 ],
 "metadata": {
  "kernelspec": {
   "display_name": "Python 3",
   "language": "python",
   "name": "python3"
  },
  "language_info": {
   "codemirror_mode": {
    "name": "ipython",
    "version": 3
   },
   "file_extension": ".py",
   "mimetype": "text/x-python",
   "name": "python",
   "nbconvert_exporter": "python",
   "pygments_lexer": "ipython3",
   "version": "3.7.1"
  }
 },
 "nbformat": 4,
 "nbformat_minor": 2
}
