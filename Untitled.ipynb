{
 "cells": [
  {
   "cell_type": "code",
   "execution_count": 44,
   "metadata": {},
   "outputs": [],
   "source": [
    "from xlsxwriter import Workbook"
   ]
  },
  {
   "cell_type": "code",
   "execution_count": 45,
   "metadata": {},
   "outputs": [],
   "source": [
    "work = Workbook('first.xlsx')"
   ]
  },
  {
   "cell_type": "code",
   "execution_count": 46,
   "metadata": {},
   "outputs": [],
   "source": [
    "worksheet = work.add_worksheet()"
   ]
  },
  {
   "cell_type": "code",
   "execution_count": 47,
   "metadata": {},
   "outputs": [],
   "source": [
    "for i in range(20):\n",
    "    worksheet.write(i,0,\"helllo\")\n",
    "    worksheet.write(i,1,\"helllo\")"
   ]
  },
  {
   "cell_type": "code",
   "execution_count": 48,
   "metadata": {},
   "outputs": [],
   "source": [
    "work.close()"
   ]
  },
  {
   "cell_type": "code",
   "execution_count": 33,
   "metadata": {},
   "outputs": [],
   "source": [
    "#### reading from Excel file"
   ]
  },
  {
   "cell_type": "code",
   "execution_count": 49,
   "metadata": {},
   "outputs": [],
   "source": [
    "import xlrd"
   ]
  },
  {
   "cell_type": "code",
   "execution_count": 50,
   "metadata": {},
   "outputs": [],
   "source": [
    "workbook = xlrd.open_workbook(\"first.xlsx\")\n",
    "worksheet = workbook.sheet_by_index(0)"
   ]
  },
  {
   "cell_type": "code",
   "execution_count": 53,
   "metadata": {},
   "outputs": [
    {
     "name": "stdout",
     "output_type": "stream",
     "text": [
      "helllo helllo \n",
      "\n",
      "helllo helllo \n",
      "\n",
      "helllo helllo \n",
      "\n",
      "helllo helllo \n",
      "\n",
      "helllo helllo \n",
      "\n",
      "helllo helllo \n",
      "\n",
      "helllo helllo \n",
      "\n",
      "helllo helllo \n",
      "\n",
      "helllo helllo \n",
      "\n",
      "helllo helllo \n",
      "\n",
      "helllo helllo \n",
      "\n",
      "helllo helllo \n",
      "\n",
      "helllo helllo \n",
      "\n",
      "helllo helllo \n",
      "\n",
      "helllo helllo \n",
      "\n",
      "helllo helllo \n",
      "\n",
      "helllo helllo \n",
      "\n",
      "helllo helllo \n",
      "\n",
      "helllo helllo \n",
      "\n",
      "helllo helllo \n",
      "\n"
     ]
    }
   ],
   "source": [
    "for row in range(worksheet.nrows):\n",
    "        tup = worksheet.row_values(row)\n",
    "        for val in tup:\n",
    "            print(val,end=\" \")\n",
    "        print(\"\\n\")"
   ]
  },
  {
   "cell_type": "code",
   "execution_count": null,
   "metadata": {},
   "outputs": [],
   "source": []
  }
 ],
 "metadata": {
  "kernelspec": {
   "display_name": "Python 3",
   "language": "python",
   "name": "python3"
  },
  "language_info": {
   "codemirror_mode": {
    "name": "ipython",
    "version": 3
   },
   "file_extension": ".py",
   "mimetype": "text/x-python",
   "name": "python",
   "nbconvert_exporter": "python",
   "pygments_lexer": "ipython3",
   "version": "3.7.1"
  }
 },
 "nbformat": 4,
 "nbformat_minor": 2
}
